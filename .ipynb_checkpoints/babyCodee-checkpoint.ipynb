{
 "cells": [
  {
   "cell_type": "code",
   "execution_count": 9,
   "metadata": {
    "tags": []
   },
   "outputs": [
    {
     "name": "stdout",
     "output_type": "stream",
     "text": [
      "The autoreload extension is already loaded. To reload it, use:\n",
      "  %reload_ext autoreload\n"
     ]
    }
   ],
   "source": [
    "%load_ext autoreload"
   ]
  },
  {
   "cell_type": "code",
   "execution_count": 10,
   "metadata": {},
   "outputs": [],
   "source": [
    "import matplotlib.pyplot as plt\n",
    "import numpy as np\n",
    "\n",
    "import solidspy.preprocesor as pre\n",
    "import solidspy.assemutil as ass    \n",
    "import solidspy.solutil as sol      \n",
    "import solidspy.postprocesor as pos \n",
    "from datetime import datetime\n",
    "from solidspy import solids_GUI"
   ]
  },
  {
   "cell_type": "code",
   "execution_count": 11,
   "metadata": {},
   "outputs": [],
   "source": [
    "def FEM_solve(nodes, mats, elements, loads, plot_contours=False):\n",
    "    \"\"\"\n",
    "    Get from: https://github.com/AppliedMechanics-EAFIT/SolidsPy/blob/master/solidspy/solids_GUI.py\n",
    "    Run a complete workflow for a Finite Element Analysis\n",
    "    Parameters\n",
    "    ----------\n",
    "    nodes : ndarray\n",
    "        Array with models nodes\n",
    "    mats : ndarray\n",
    "        Array with models materials\n",
    "    elements : ndarray\n",
    "        Array with models elements\n",
    "    loads : ndarray\n",
    "        Array with models loads\n",
    "    plot_contours : Bool (optional)\n",
    "        Boolean variable to plot contours of the computed variables.\n",
    "        By default it is True.\n",
    "    Returns\n",
    "    -------\n",
    "    UC : ndarray (nnodes, 2)\n",
    "        Displacements at nodes.\n",
    "    E_nodes : ndarray (nnodes, 3), optional\n",
    "        Strains at nodes. It is returned when `compute_strains` is True.\n",
    "    S_nodes : ndarray (nnodes, 3), optional\n",
    "        Stresses at nodes. It is returned when `compute_strains` is True.\n",
    "    \"\"\"   \n",
    "\n",
    "    compute_strains=True\n",
    "\n",
    "    start_time = datetime.now()\n",
    "    # Pre-processing\n",
    "    DME , IBC , neq = ass.DME(nodes, elements)\n",
    "    #print(\"Number of nodes: {}\".format(nodes.shape[0]))\n",
    "    print(\"Number of elements: {}\".format(elements.shape[0]))\n",
    "    #print(\"Number of equations: {}\".format(neq))\n",
    "\n",
    "    # System assembly\n",
    "    KG = ass.assembler(elements, mats, nodes, neq, DME)\n",
    "    RHSG = ass.loadasem(loads, IBC, neq)\n",
    "\n",
    "    # System solution\n",
    "    UG = sol.static_sol(KG, RHSG)\n",
    "    if not(np.allclose(KG.dot(UG)/KG.max(), RHSG/KG.max())):\n",
    "        print(\"The system is not in equilibrium!\")\n",
    "    end_time = datetime.now()\n",
    "    #print('Duration for system solution: {}'.format(end_time - start_time))\n",
    "\n",
    "    # Post-processing\n",
    "    start_time = datetime.now()\n",
    "    UC = pos.complete_disp(IBC, nodes, UG)\n",
    "    E_nodes, S_nodes = None, None\n",
    "    if compute_strains:\n",
    "        E_nodes, S_nodes = pos.strain_nodes(nodes , elements, mats, UC)\n",
    "    if plot_contours:\n",
    "        pos.fields_plot(elements, nodes, UC, E_nodes=E_nodes, S_nodes=S_nodes)\n",
    "        \n",
    "    disp_elemts = []\n",
    "    strain_elemts = []\n",
    "    stress_elemts = []\n",
    "    for el in elements:\n",
    "        disp_nodes = np.take(UC, list(el[3:]), 0)\n",
    "        strain_nodes = np.take(E_nodes, list(el[3:]), 0)\n",
    "        stress_nodes = np.take(S_nodes, list(el[3:]), 0)\n",
    "        disp_elemt = (disp_nodes[0] + disp_nodes[1] + disp_nodes[2] + disp_nodes[3]) / 4\n",
    "        strain_elemt = (strain_nodes[0] + strain_nodes[1] + strain_nodes[2] + strain_nodes[3]) / 4\n",
    "        stress_elemt = (stress_nodes[0] + stress_nodes[1] + stress_nodes[2] + stress_nodes[3]) / 4\n",
    "        disp_elemts.append(disp_elemt)\n",
    "        strain_elemts.append(strain_elemt)\n",
    "        stress_elemts.append(stress_elemt)\n",
    "    \n",
    "    disp_elemts = np.array(disp_elemts)\n",
    "    strain_elemts = np.array(strain_elemts)\n",
    "    stress_elemts = np.array(stress_elemts)\n",
    "        \n",
    "    end_time = datetime.now()\n",
    "    #print('Duration for post processing: {}'.format(end_time - start_time))\n",
    "    print('Analysis terminated successfully!')\n",
    "    return (disp_elemts, strain_elemts, stress_elemts) if compute_strains else UC\n"
   ]
  },
  {
   "cell_type": "code",
   "execution_count": 12,
   "metadata": {
    "tags": []
   },
   "outputs": [],
   "source": [
    "def beam(L=10, H=10, F=-10000, E=206.8e6, v=0.28, nx=20, ny=20):\n",
    "    \"\"\"\n",
    "    Make files with mesh information\n",
    "\n",
    "    Parameters\n",
    "    ----------\n",
    "    L : float (optional)\n",
    "        Beam's lenght\n",
    "    H : float (optional)\n",
    "        Beam's height\n",
    "    E : string (optional)\n",
    "        Young module\n",
    "    v : string (optional)\n",
    "        Poisson ratio\n",
    "    nx : int (optional)\n",
    "        Number of element in x direction\n",
    "    ny : int (optional)\n",
    "        Number of element in y direction\n",
    "\n",
    "    Returns\n",
    "    -------\n",
    "    nodes : ndarray (nnodes, 5)\n",
    "        Nodes array\n",
    "    mats : ndarray (1, 2)\n",
    "        Mats array\n",
    "    els : ndarray (nnodes, 7), optional\n",
    "        Elements array\n",
    "    loads : ndarray (nnodes, 3), optional\n",
    "        Loads array\n",
    "\n",
    "    \"\"\"\n",
    "    mats = np.array([[E,v]])\n",
    "    x, y, els = pre.rect_grid(L, H, nx, ny)\n",
    "    nodes = np.zeros(((nx + 1)*(ny + 1), 5))\n",
    "    nodes[:, 0] = range((nx + 1)*(ny + 1))\n",
    "    nodes[:, 1] = x\n",
    "    nodes[:, 2] = y\n",
    "    nodes[x==L/2, 3] = -1\n",
    "    nodes[x==L/2, 4] = -1    \n",
    "    loads = np.zeros((ny + 1, 3))\n",
    "    loads[:, 0] = nodes[x==-L/2, 0]\n",
    "    loads[:, 2] = F\n",
    "    BC = nodes[x==L/2, 0]\n",
    "    return nodes, mats, els, loads, BC"
   ]
  },
  {
   "cell_type": "code",
   "execution_count": 13,
   "metadata": {
    "tags": []
   },
   "outputs": [],
   "source": [
    "def delete_element(el, els, loads, BC):\n",
    "    if el not in loads[:,0] and el not in BC:\n",
    "        els = np.delete(els,el,0)\n",
    "    return els"
   ]
  },
  {
   "cell_type": "code",
   "execution_count": 14,
   "metadata": {
    "tags": []
   },
   "outputs": [],
   "source": [
    "nodes, mats, els, loads, BC = beam()"
   ]
  },
  {
   "cell_type": "code",
   "execution_count": 15,
   "metadata": {},
   "outputs": [
    {
     "name": "stdout",
     "output_type": "stream",
     "text": [
      "Number of elements: 400\n",
      "Analysis terminated successfully!\n",
      "[]\n",
      "Number of elements: 400\n",
      "Analysis terminated successfully!\n",
      "[]\n",
      "Number of elements: 400\n",
      "Analysis terminated successfully!\n",
      "[382 381 362  22   2   1]\n",
      "Number of elements: 394\n",
      "The system is not in equilibrium!\n",
      "Analysis terminated successfully!\n",
      "[]\n"
     ]
    }
   ],
   "source": [
    "iter = 4\n",
    "RR = 0.1\n",
    "ER = 0.05\n",
    "\n",
    "for _ in range(iter):\n",
    "    disp, strains, stresses = FEM_solve(nodes, mats, els, loads, False)\n",
    "    vons = np.sqrt(stresses[:,0]**2 - (stresses[:,0]*stresses[:,1]) + stresses[:,1]**2 + 3*stresses[:,2]**2)\n",
    "    max_von = vons.max()\n",
    "    elemt_rr = vons/max_von\n",
    "    \n",
    "    elemt_delete = np.flip((elemt_rr < RR).nonzero()[0])\n",
    "    print(elemt_delete)\n",
    "    for el_del in elemt_delete:\n",
    "        els = delete_element(el_del, els, loads, BC)\n",
    "    RR += ER"
   ]
  },
  {
   "cell_type": "code",
   "execution_count": 16,
   "metadata": {},
   "outputs": [
    {
     "name": "stdout",
     "output_type": "stream",
     "text": [
      "Number of elements: 394\n",
      "The system is not in equilibrium!\n"
     ]
    },
    {
     "ename": "ValueError",
     "evalue": "z array must not contain non-finite values within the triangulation",
     "output_type": "error",
     "traceback": [
      "\u001b[0;31m---------------------------------------------------------------------------\u001b[0m",
      "\u001b[0;31mValueError\u001b[0m                                Traceback (most recent call last)",
      "\u001b[0;32m/tmp/ipykernel_31239/2178272316.py\u001b[0m in \u001b[0;36m<module>\u001b[0;34m\u001b[0m\n\u001b[0;32m----> 1\u001b[0;31m \u001b[0mdisp\u001b[0m\u001b[0;34m,\u001b[0m \u001b[0mstrains\u001b[0m\u001b[0;34m,\u001b[0m \u001b[0mstresses\u001b[0m \u001b[0;34m=\u001b[0m \u001b[0mFEM_solve\u001b[0m\u001b[0;34m(\u001b[0m\u001b[0mnodes\u001b[0m\u001b[0;34m,\u001b[0m \u001b[0mmats\u001b[0m\u001b[0;34m,\u001b[0m \u001b[0mels\u001b[0m\u001b[0;34m,\u001b[0m \u001b[0mloads\u001b[0m\u001b[0;34m,\u001b[0m \u001b[0;32mTrue\u001b[0m\u001b[0;34m)\u001b[0m\u001b[0;34m\u001b[0m\u001b[0;34m\u001b[0m\u001b[0m\n\u001b[0m",
      "\u001b[0;32m/tmp/ipykernel_31239/2217721112.py\u001b[0m in \u001b[0;36mFEM_solve\u001b[0;34m(nodes, mats, elements, loads, plot_contours)\u001b[0m\n\u001b[1;32m     53\u001b[0m         \u001b[0mE_nodes\u001b[0m\u001b[0;34m,\u001b[0m \u001b[0mS_nodes\u001b[0m \u001b[0;34m=\u001b[0m \u001b[0mpos\u001b[0m\u001b[0;34m.\u001b[0m\u001b[0mstrain_nodes\u001b[0m\u001b[0;34m(\u001b[0m\u001b[0mnodes\u001b[0m \u001b[0;34m,\u001b[0m \u001b[0melements\u001b[0m\u001b[0;34m,\u001b[0m \u001b[0mmats\u001b[0m\u001b[0;34m,\u001b[0m \u001b[0mUC\u001b[0m\u001b[0;34m)\u001b[0m\u001b[0;34m\u001b[0m\u001b[0;34m\u001b[0m\u001b[0m\n\u001b[1;32m     54\u001b[0m     \u001b[0;32mif\u001b[0m \u001b[0mplot_contours\u001b[0m\u001b[0;34m:\u001b[0m\u001b[0;34m\u001b[0m\u001b[0;34m\u001b[0m\u001b[0m\n\u001b[0;32m---> 55\u001b[0;31m         \u001b[0mpos\u001b[0m\u001b[0;34m.\u001b[0m\u001b[0mfields_plot\u001b[0m\u001b[0;34m(\u001b[0m\u001b[0melements\u001b[0m\u001b[0;34m,\u001b[0m \u001b[0mnodes\u001b[0m\u001b[0;34m,\u001b[0m \u001b[0mUC\u001b[0m\u001b[0;34m,\u001b[0m \u001b[0mE_nodes\u001b[0m\u001b[0;34m=\u001b[0m\u001b[0mE_nodes\u001b[0m\u001b[0;34m,\u001b[0m \u001b[0mS_nodes\u001b[0m\u001b[0;34m=\u001b[0m\u001b[0mS_nodes\u001b[0m\u001b[0;34m)\u001b[0m\u001b[0;34m\u001b[0m\u001b[0;34m\u001b[0m\u001b[0m\n\u001b[0m\u001b[1;32m     56\u001b[0m \u001b[0;34m\u001b[0m\u001b[0m\n\u001b[1;32m     57\u001b[0m     \u001b[0mdisp_elemts\u001b[0m \u001b[0;34m=\u001b[0m \u001b[0;34m[\u001b[0m\u001b[0;34m]\u001b[0m\u001b[0;34m\u001b[0m\u001b[0;34m\u001b[0m\u001b[0m\n",
      "\u001b[0;32m~/anaconda3/lib/python3.9/site-packages/solidspy/postprocesor.py\u001b[0m in \u001b[0;36mfields_plot\u001b[0;34m(elements, nodes, disp, E_nodes, S_nodes)\u001b[0m\n\u001b[1;32m     56\u001b[0m         \u001b[0mprint\u001b[0m\u001b[0;34m(\u001b[0m\u001b[0mdisp\u001b[0m\u001b[0;34m)\u001b[0m\u001b[0;34m\u001b[0m\u001b[0;34m\u001b[0m\u001b[0m\n\u001b[1;32m     57\u001b[0m     \u001b[0;32melse\u001b[0m\u001b[0;34m:\u001b[0m\u001b[0;34m\u001b[0m\u001b[0;34m\u001b[0m\u001b[0m\n\u001b[0;32m---> 58\u001b[0;31m         plot_node_field(disp, nodes, elements, title=[r\"$u_x$\", r\"$u_y$\"],\n\u001b[0m\u001b[1;32m     59\u001b[0m                         figtitle=[\"Horizontal displacement\",\n\u001b[1;32m     60\u001b[0m                                   \"Vertical displacement\"])\n",
      "\u001b[0;32m~/anaconda3/lib/python3.9/site-packages/solidspy/postprocesor.py\u001b[0m in \u001b[0;36mplot_node_field\u001b[0;34m(field, nodes, elements, plt_type, levels, savefigs, title, figtitle, filename)\u001b[0m\n\u001b[1;32m    167\u001b[0m             \u001b[0mcurrent_field\u001b[0m \u001b[0;34m=\u001b[0m \u001b[0mfield\u001b[0m\u001b[0;34m[\u001b[0m\u001b[0;34m:\u001b[0m\u001b[0;34m,\u001b[0m \u001b[0mcont\u001b[0m\u001b[0;34m]\u001b[0m\u001b[0;34m\u001b[0m\u001b[0;34m\u001b[0m\u001b[0m\n\u001b[1;32m    168\u001b[0m         \u001b[0mplt\u001b[0m\u001b[0;34m.\u001b[0m\u001b[0mfigure\u001b[0m\u001b[0;34m(\u001b[0m\u001b[0mfigtitle\u001b[0m\u001b[0;34m[\u001b[0m\u001b[0mcont\u001b[0m\u001b[0;34m]\u001b[0m\u001b[0;34m)\u001b[0m\u001b[0;34m\u001b[0m\u001b[0;34m\u001b[0m\u001b[0m\n\u001b[0;32m--> 169\u001b[0;31m         tri_plot(tri, current_field, title=title[cont], levels=levels,\n\u001b[0m\u001b[1;32m    170\u001b[0m                  \u001b[0mplt_type\u001b[0m\u001b[0;34m=\u001b[0m\u001b[0mplt_type\u001b[0m\u001b[0;34m,\u001b[0m \u001b[0msavefigs\u001b[0m\u001b[0;34m=\u001b[0m\u001b[0msavefigs\u001b[0m\u001b[0;34m,\u001b[0m\u001b[0;34m\u001b[0m\u001b[0;34m\u001b[0m\u001b[0m\n\u001b[1;32m    171\u001b[0m                  filename=filename[cont])\n",
      "\u001b[0;32m~/anaconda3/lib/python3.9/site-packages/solidspy/postprocesor.py\u001b[0m in \u001b[0;36mtri_plot\u001b[0;34m(tri, field, title, levels, savefigs, plt_type, filename)\u001b[0m\n\u001b[1;32m    106\u001b[0m     \u001b[0;32melif\u001b[0m \u001b[0mplt_type\u001b[0m \u001b[0;34m==\u001b[0m \u001b[0;34m\"contourf\"\u001b[0m\u001b[0;34m:\u001b[0m\u001b[0;34m\u001b[0m\u001b[0;34m\u001b[0m\u001b[0m\n\u001b[1;32m    107\u001b[0m         \u001b[0mdisp_plot\u001b[0m \u001b[0;34m=\u001b[0m \u001b[0mplt\u001b[0m\u001b[0;34m.\u001b[0m\u001b[0mtricontourf\u001b[0m\u001b[0;34m\u001b[0m\u001b[0;34m\u001b[0m\u001b[0m\n\u001b[0;32m--> 108\u001b[0;31m     \u001b[0mdisp_plot\u001b[0m\u001b[0;34m(\u001b[0m\u001b[0mtri\u001b[0m\u001b[0;34m,\u001b[0m \u001b[0mfield\u001b[0m\u001b[0;34m,\u001b[0m \u001b[0mlevels\u001b[0m\u001b[0;34m,\u001b[0m \u001b[0mshading\u001b[0m\u001b[0;34m=\u001b[0m\u001b[0;34m\"gouraud\"\u001b[0m\u001b[0;34m)\u001b[0m\u001b[0;34m\u001b[0m\u001b[0;34m\u001b[0m\u001b[0m\n\u001b[0m\u001b[1;32m    109\u001b[0m     \u001b[0mplt\u001b[0m\u001b[0;34m.\u001b[0m\u001b[0mtitle\u001b[0m\u001b[0;34m(\u001b[0m\u001b[0mtitle\u001b[0m\u001b[0;34m)\u001b[0m\u001b[0;34m\u001b[0m\u001b[0;34m\u001b[0m\u001b[0m\n\u001b[1;32m    110\u001b[0m     \u001b[0mplt\u001b[0m\u001b[0;34m.\u001b[0m\u001b[0mcolorbar\u001b[0m\u001b[0;34m(\u001b[0m\u001b[0morientation\u001b[0m\u001b[0;34m=\u001b[0m\u001b[0;34m'vertical'\u001b[0m\u001b[0;34m)\u001b[0m\u001b[0;34m\u001b[0m\u001b[0;34m\u001b[0m\u001b[0m\n",
      "\u001b[0;32m~/anaconda3/lib/python3.9/site-packages/matplotlib/pyplot.py\u001b[0m in \u001b[0;36mtricontourf\u001b[0;34m(*args, **kwargs)\u001b[0m\n\u001b[1;32m   2968\u001b[0m \u001b[0;34m@\u001b[0m\u001b[0m_copy_docstring_and_deprecators\u001b[0m\u001b[0;34m(\u001b[0m\u001b[0mAxes\u001b[0m\u001b[0;34m.\u001b[0m\u001b[0mtricontourf\u001b[0m\u001b[0;34m)\u001b[0m\u001b[0;34m\u001b[0m\u001b[0;34m\u001b[0m\u001b[0m\n\u001b[1;32m   2969\u001b[0m \u001b[0;32mdef\u001b[0m \u001b[0mtricontourf\u001b[0m\u001b[0;34m(\u001b[0m\u001b[0;34m*\u001b[0m\u001b[0margs\u001b[0m\u001b[0;34m,\u001b[0m \u001b[0;34m**\u001b[0m\u001b[0mkwargs\u001b[0m\u001b[0;34m)\u001b[0m\u001b[0;34m:\u001b[0m\u001b[0;34m\u001b[0m\u001b[0;34m\u001b[0m\u001b[0m\n\u001b[0;32m-> 2970\u001b[0;31m     \u001b[0m__ret\u001b[0m \u001b[0;34m=\u001b[0m \u001b[0mgca\u001b[0m\u001b[0;34m(\u001b[0m\u001b[0;34m)\u001b[0m\u001b[0;34m.\u001b[0m\u001b[0mtricontourf\u001b[0m\u001b[0;34m(\u001b[0m\u001b[0;34m*\u001b[0m\u001b[0margs\u001b[0m\u001b[0;34m,\u001b[0m \u001b[0;34m**\u001b[0m\u001b[0mkwargs\u001b[0m\u001b[0;34m)\u001b[0m\u001b[0;34m\u001b[0m\u001b[0;34m\u001b[0m\u001b[0m\n\u001b[0m\u001b[1;32m   2971\u001b[0m     \u001b[0;32mif\u001b[0m \u001b[0m__ret\u001b[0m\u001b[0;34m.\u001b[0m\u001b[0m_A\u001b[0m \u001b[0;32mis\u001b[0m \u001b[0;32mnot\u001b[0m \u001b[0;32mNone\u001b[0m\u001b[0;34m:\u001b[0m \u001b[0msci\u001b[0m\u001b[0;34m(\u001b[0m\u001b[0m__ret\u001b[0m\u001b[0;34m)\u001b[0m  \u001b[0;31m# noqa\u001b[0m\u001b[0;34m\u001b[0m\u001b[0;34m\u001b[0m\u001b[0m\n\u001b[1;32m   2972\u001b[0m     \u001b[0;32mreturn\u001b[0m \u001b[0m__ret\u001b[0m\u001b[0;34m\u001b[0m\u001b[0;34m\u001b[0m\u001b[0m\n",
      "\u001b[0;32m~/anaconda3/lib/python3.9/site-packages/matplotlib/tri/tricontour.py\u001b[0m in \u001b[0;36mtricontourf\u001b[0;34m(ax, *args, **kwargs)\u001b[0m\n\u001b[1;32m    305\u001b[0m     \"\"\"\n\u001b[1;32m    306\u001b[0m     \u001b[0mkwargs\u001b[0m\u001b[0;34m[\u001b[0m\u001b[0;34m'filled'\u001b[0m\u001b[0;34m]\u001b[0m \u001b[0;34m=\u001b[0m \u001b[0;32mTrue\u001b[0m\u001b[0;34m\u001b[0m\u001b[0;34m\u001b[0m\u001b[0m\n\u001b[0;32m--> 307\u001b[0;31m     \u001b[0;32mreturn\u001b[0m \u001b[0mTriContourSet\u001b[0m\u001b[0;34m(\u001b[0m\u001b[0max\u001b[0m\u001b[0;34m,\u001b[0m \u001b[0;34m*\u001b[0m\u001b[0margs\u001b[0m\u001b[0;34m,\u001b[0m \u001b[0;34m**\u001b[0m\u001b[0mkwargs\u001b[0m\u001b[0;34m)\u001b[0m\u001b[0;34m\u001b[0m\u001b[0;34m\u001b[0m\u001b[0m\n\u001b[0m",
      "\u001b[0;32m~/anaconda3/lib/python3.9/site-packages/matplotlib/tri/tricontour.py\u001b[0m in \u001b[0;36m__init__\u001b[0;34m(self, ax, *args, **kwargs)\u001b[0m\n\u001b[1;32m     27\u001b[0m         \u001b[0mare\u001b[0m \u001b[0mdescribed\u001b[0m \u001b[0;32min\u001b[0m \u001b[0mthe\u001b[0m \u001b[0mdocstring\u001b[0m \u001b[0mof\u001b[0m\u001b[0;31m \u001b[0m\u001b[0;31m`\u001b[0m\u001b[0;34m~\u001b[0m\u001b[0;34m.\u001b[0m\u001b[0mAxes\u001b[0m\u001b[0;34m.\u001b[0m\u001b[0mtricontour\u001b[0m\u001b[0;31m`\u001b[0m\u001b[0;34m.\u001b[0m\u001b[0;34m\u001b[0m\u001b[0;34m\u001b[0m\u001b[0m\n\u001b[1;32m     28\u001b[0m         \"\"\"\n\u001b[0;32m---> 29\u001b[0;31m         \u001b[0msuper\u001b[0m\u001b[0;34m(\u001b[0m\u001b[0;34m)\u001b[0m\u001b[0;34m.\u001b[0m\u001b[0m__init__\u001b[0m\u001b[0;34m(\u001b[0m\u001b[0max\u001b[0m\u001b[0;34m,\u001b[0m \u001b[0;34m*\u001b[0m\u001b[0margs\u001b[0m\u001b[0;34m,\u001b[0m \u001b[0;34m**\u001b[0m\u001b[0mkwargs\u001b[0m\u001b[0;34m)\u001b[0m\u001b[0;34m\u001b[0m\u001b[0;34m\u001b[0m\u001b[0m\n\u001b[0m\u001b[1;32m     30\u001b[0m \u001b[0;34m\u001b[0m\u001b[0m\n\u001b[1;32m     31\u001b[0m     \u001b[0;32mdef\u001b[0m \u001b[0m_process_args\u001b[0m\u001b[0;34m(\u001b[0m\u001b[0mself\u001b[0m\u001b[0;34m,\u001b[0m \u001b[0;34m*\u001b[0m\u001b[0margs\u001b[0m\u001b[0;34m,\u001b[0m \u001b[0;34m**\u001b[0m\u001b[0mkwargs\u001b[0m\u001b[0;34m)\u001b[0m\u001b[0;34m:\u001b[0m\u001b[0;34m\u001b[0m\u001b[0;34m\u001b[0m\u001b[0m\n",
      "\u001b[0;32m~/anaconda3/lib/python3.9/site-packages/matplotlib/contour.py\u001b[0m in \u001b[0;36m__init__\u001b[0;34m(self, ax, levels, filled, linewidths, linestyles, hatches, alpha, origin, extent, cmap, colors, norm, vmin, vmax, extend, antialiased, nchunk, locator, transform, *args, **kwargs)\u001b[0m\n\u001b[1;32m    810\u001b[0m         \u001b[0mself\u001b[0m\u001b[0;34m.\u001b[0m\u001b[0m_transform\u001b[0m \u001b[0;34m=\u001b[0m \u001b[0mtransform\u001b[0m\u001b[0;34m\u001b[0m\u001b[0;34m\u001b[0m\u001b[0m\n\u001b[1;32m    811\u001b[0m \u001b[0;34m\u001b[0m\u001b[0m\n\u001b[0;32m--> 812\u001b[0;31m         \u001b[0mkwargs\u001b[0m \u001b[0;34m=\u001b[0m \u001b[0mself\u001b[0m\u001b[0;34m.\u001b[0m\u001b[0m_process_args\u001b[0m\u001b[0;34m(\u001b[0m\u001b[0;34m*\u001b[0m\u001b[0margs\u001b[0m\u001b[0;34m,\u001b[0m \u001b[0;34m**\u001b[0m\u001b[0mkwargs\u001b[0m\u001b[0;34m)\u001b[0m\u001b[0;34m\u001b[0m\u001b[0;34m\u001b[0m\u001b[0m\n\u001b[0m\u001b[1;32m    813\u001b[0m         \u001b[0mself\u001b[0m\u001b[0;34m.\u001b[0m\u001b[0m_process_levels\u001b[0m\u001b[0;34m(\u001b[0m\u001b[0;34m)\u001b[0m\u001b[0;34m\u001b[0m\u001b[0;34m\u001b[0m\u001b[0m\n\u001b[1;32m    814\u001b[0m \u001b[0;34m\u001b[0m\u001b[0m\n",
      "\u001b[0;32m~/anaconda3/lib/python3.9/site-packages/matplotlib/tri/tricontour.py\u001b[0m in \u001b[0;36m_process_args\u001b[0;34m(self, *args, **kwargs)\u001b[0m\n\u001b[1;32m     43\u001b[0m         \u001b[0;32melse\u001b[0m\u001b[0;34m:\u001b[0m\u001b[0;34m\u001b[0m\u001b[0;34m\u001b[0m\u001b[0m\n\u001b[1;32m     44\u001b[0m             \u001b[0;32mfrom\u001b[0m \u001b[0mmatplotlib\u001b[0m \u001b[0;32mimport\u001b[0m \u001b[0m_tri\u001b[0m\u001b[0;34m\u001b[0m\u001b[0;34m\u001b[0m\u001b[0m\n\u001b[0;32m---> 45\u001b[0;31m             \u001b[0mtri\u001b[0m\u001b[0;34m,\u001b[0m \u001b[0mz\u001b[0m \u001b[0;34m=\u001b[0m \u001b[0mself\u001b[0m\u001b[0;34m.\u001b[0m\u001b[0m_contour_args\u001b[0m\u001b[0;34m(\u001b[0m\u001b[0margs\u001b[0m\u001b[0;34m,\u001b[0m \u001b[0mkwargs\u001b[0m\u001b[0;34m)\u001b[0m\u001b[0;34m\u001b[0m\u001b[0;34m\u001b[0m\u001b[0m\n\u001b[0m\u001b[1;32m     46\u001b[0m             \u001b[0mC\u001b[0m \u001b[0;34m=\u001b[0m \u001b[0m_tri\u001b[0m\u001b[0;34m.\u001b[0m\u001b[0mTriContourGenerator\u001b[0m\u001b[0;34m(\u001b[0m\u001b[0mtri\u001b[0m\u001b[0;34m.\u001b[0m\u001b[0mget_cpp_triangulation\u001b[0m\u001b[0;34m(\u001b[0m\u001b[0;34m)\u001b[0m\u001b[0;34m,\u001b[0m \u001b[0mz\u001b[0m\u001b[0;34m)\u001b[0m\u001b[0;34m\u001b[0m\u001b[0;34m\u001b[0m\u001b[0m\n\u001b[1;32m     47\u001b[0m             \u001b[0mself\u001b[0m\u001b[0;34m.\u001b[0m\u001b[0m_mins\u001b[0m \u001b[0;34m=\u001b[0m \u001b[0;34m[\u001b[0m\u001b[0mtri\u001b[0m\u001b[0;34m.\u001b[0m\u001b[0mx\u001b[0m\u001b[0;34m.\u001b[0m\u001b[0mmin\u001b[0m\u001b[0;34m(\u001b[0m\u001b[0;34m)\u001b[0m\u001b[0;34m,\u001b[0m \u001b[0mtri\u001b[0m\u001b[0;34m.\u001b[0m\u001b[0my\u001b[0m\u001b[0;34m.\u001b[0m\u001b[0mmin\u001b[0m\u001b[0;34m(\u001b[0m\u001b[0;34m)\u001b[0m\u001b[0;34m]\u001b[0m\u001b[0;34m\u001b[0m\u001b[0;34m\u001b[0m\u001b[0m\n",
      "\u001b[0;32m~/anaconda3/lib/python3.9/site-packages/matplotlib/tri/tricontour.py\u001b[0m in \u001b[0;36m_contour_args\u001b[0;34m(self, args, kwargs)\u001b[0m\n\u001b[1;32m     70\u001b[0m                              'triangulation')\n\u001b[1;32m     71\u001b[0m         \u001b[0;32mif\u001b[0m \u001b[0;32mnot\u001b[0m \u001b[0mnp\u001b[0m\u001b[0;34m.\u001b[0m\u001b[0misfinite\u001b[0m\u001b[0;34m(\u001b[0m\u001b[0mz_check\u001b[0m\u001b[0;34m)\u001b[0m\u001b[0;34m.\u001b[0m\u001b[0mall\u001b[0m\u001b[0;34m(\u001b[0m\u001b[0;34m)\u001b[0m\u001b[0;34m:\u001b[0m\u001b[0;34m\u001b[0m\u001b[0;34m\u001b[0m\u001b[0m\n\u001b[0;32m---> 72\u001b[0;31m             raise ValueError('z array must not contain non-finite values '\n\u001b[0m\u001b[1;32m     73\u001b[0m                              'within the triangulation')\n\u001b[1;32m     74\u001b[0m \u001b[0;34m\u001b[0m\u001b[0m\n",
      "\u001b[0;31mValueError\u001b[0m: z array must not contain non-finite values within the triangulation"
     ]
    },
    {
     "data": {
      "image/png": "[encoded data removed]",
      "text/plain": [
       "<Figure size 640x480 with 1 Axes>"
      ]
     },
     "metadata": {},
     "output_type": "display_data"
    }
   ],
   "source": [
    "disp, strains, stresses = FEM_solve(nodes, mats, els, loads, True)"
   ]
  }
 ],
 "metadata": {
  "kernelspec": {
   "display_name": "Python 3 (ipykernel)",
   "language": "python",
   "name": "python3"
  },
  "language_info": {
   "codemirror_mode": {
    "name": "ipython",
    "version": 3
   },
   "file_extension": ".py",
   "mimetype": "text/x-python",
   "name": "python",
   "nbconvert_exporter": "python",
   "pygments_lexer": "ipython3",
   "version": "3.9.13"
  },
  "vscode": {
   "interpreter": {
    "hash": "53940a64a84baee84115dac011860f2172ae7d73a9743277e4d3478cbdc68394"
   }
  }
 },
 "nbformat": 4,
 "nbformat_minor": 4
}

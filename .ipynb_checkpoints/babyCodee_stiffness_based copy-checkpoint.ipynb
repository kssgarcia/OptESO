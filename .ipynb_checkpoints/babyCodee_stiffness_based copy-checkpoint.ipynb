{
 "cells": [
  {
   "cell_type": "code",
   "execution_count": 1,
   "metadata": {},
   "outputs": [
    {
     "data": {
      "text/plain": [
       "{'divide': 'warn', 'over': 'warn', 'under': 'ignore', 'invalid': 'warn'}"
      ]
     },
     "execution_count": 1,
     "metadata": {},
     "output_type": "execute_result"
    }
   ],
   "source": [
    "import matplotlib.pyplot as plt\n",
    "import numpy as np\n",
    "\n",
    "from beams import *\n",
    "\n",
    "# Solidspy 1.1.0\n",
    "import solidspy.preprocesor as pre\n",
    "import solidspy.assemutil as ass    \n",
    "import solidspy.solutil as sol      \n",
    "import solidspy.postprocesor as pos \n",
    "import solidspy.uelutil as uel \n",
    "\n",
    "import matplotlib.pyplot as plt \n",
    "np.seterr(divide='ignore', invalid='ignore')"
   ]
  },
  {
   "cell_type": "code",
   "execution_count": 2,
   "metadata": {
    "tags": []
   },
   "outputs": [],
   "source": [
    "def is_equilibrium(nodes, mats, els, loads):\n",
    "    \"\"\"\n",
    "    Check if the system is in equilibrium\n",
    "    \n",
    "    Get from: https://github.com/AppliedMechanics-EAFIT/SolidsPy/blob/master/solidspy/solids_GUI.py\n",
    "    \n",
    "    Parameters\n",
    "    ----------\n",
    "    nodes : ndarray\n",
    "        Array with models nodes\n",
    "    mats : ndarray\n",
    "        Array with models materials\n",
    "    els : ndarray\n",
    "        Array with models elements\n",
    "    loads : ndarray\n",
    "        Array with models loads\n",
    "        \n",
    "    Returns\n",
    "    -------\n",
    "    equil : bool\n",
    "        Variable True when the system is in equilibrium and False when it doesn't\n",
    "    \"\"\"   \n",
    "\n",
    "    equil = True\n",
    "    assem_op, bc_array, neq = ass.DME(nodes[:, -2:], els, ndof_el_max=8)\n",
    "    stiff_mat, _ = ass.assembler(els, mats, nodes[:, :3], neq, assem_op)\n",
    "    rhs_vec = ass.loadasem(loads, bc_array, neq)\n",
    "    disp = sol.static_sol(stiff_mat, rhs_vec)\n",
    "    if not np.allclose(stiff_mat.dot(disp)/stiff_mat.max(), rhs_vec/stiff_mat.max()):\n",
    "        equil = False\n",
    "\n",
    "    return equil, stiff_mat, assem_op\n",
    "    \n",
    "def preprocessing(nodes, mats, els, loads):\n",
    "    \"\"\"\n",
    "    Compute IBC matrix and the static solve.\n",
    "    \n",
    "    Get from: https://github.com/AppliedMechanics-EAFIT/SolidsPy/blob/master/solidspy/solids_GUI.py\n",
    "    \n",
    "    Parameters\n",
    "    ----------\n",
    "    nodes : ndarray\n",
    "        Array with models nodes\n",
    "    mats : ndarray\n",
    "        Array with models materials\n",
    "    els : ndarray\n",
    "        Array with models elements\n",
    "    loads : ndarray\n",
    "        Array with models loads\n",
    "        \n",
    "    Returns\n",
    "    -------\n",
    "    bc_array : ndarray \n",
    "        Boundary conditions array\n",
    "    disp : ndarray \n",
    "        Static displacement solve.\n",
    "    \"\"\"   \n",
    "\n",
    "    assem_op, bc_array, neq = ass.DME(nodes[:, -2:], els, ndof_el_max=8)\n",
    "    print(\"Number of elements: {}\".format(els.shape[0]))\n",
    "\n",
    "    # System assembly\n",
    "    stiff_mat, _ = ass.assembler(els, mats, nodes[:, :3], neq, assem_op)\n",
    "    rhs_vec = ass.loadasem(loads, bc_array, neq)\n",
    "\n",
    "    # System solution\n",
    "    disp = sol.static_sol(stiff_mat, rhs_vec)\n",
    "    if not np.allclose(stiff_mat.dot(disp)/stiff_mat.max(),\n",
    "                       rhs_vec/stiff_mat.max()):\n",
    "        print(\"The system is not in equilibrium!\")\n",
    "    return bc_array, disp\n",
    "\n",
    "\n",
    "def postprocessing(nodes, mats, els, bc_array, disp):\n",
    "    \"\"\"\n",
    "    Compute the nodes displacements, strains and stresses.\n",
    "    \n",
    "    Get from: https://github.com/AppliedMechanics-EAFIT/SolidsPy/blob/master/solidspy/solids_GUI.py\n",
    "    \n",
    "    Parameters\n",
    "    ----------\n",
    "    nodes : ndarray\n",
    "        Array with models nodes\n",
    "    mats : ndarray\n",
    "        Array with models materials\n",
    "    els : ndarray\n",
    "        Array with models elements\n",
    "    IBC : ndarray \n",
    "        Boundary conditions array\n",
    "    UG : ndarray \n",
    "        Static solve.\n",
    "        \n",
    "    Returns\n",
    "    -------\n",
    "    disp_complete : ndarray \n",
    "        Displacements at elements.\n",
    "    strain_nodes : ndarray \n",
    "        Strains at elements.\n",
    "    stress_nodes : ndarray \n",
    "        Stresses at elements.\n",
    "    \"\"\"   \n",
    "    \n",
    "    disp_complete = pos.complete_disp(bc_array, nodes, disp)\n",
    "    strain_nodes, stress_nodes = None, None\n",
    "    strain_nodes, stress_nodes = pos.strain_nodes(nodes, els, mats, disp_complete)\n",
    "    \n",
    "    return disp_complete, strain_nodes, stress_nodes"
   ]
  },
  {
   "cell_type": "code",
   "execution_count": 3,
   "metadata": {},
   "outputs": [],
   "source": [
    "def protect_els(els, loads, BC):\n",
    "    \"\"\"\n",
    "    Compute an mask array with the elements that don't must be deleted.\n",
    "    \n",
    "    Get from: https://github.com/AppliedMechanics-EAFIT/SolidsPy/blob/master/solidspy/solids_GUI.py\n",
    "    \n",
    "    Parameters\n",
    "    ----------\n",
    "    els : ndarray\n",
    "        Array with models elements\n",
    "    loads : ndarray\n",
    "        Array with models loads\n",
    "    BC : ndarray \n",
    "        Boundary conditions nodes\n",
    "        \n",
    "    Returns\n",
    "    -------\n",
    "    mask_els : ndarray \n",
    "        Array with the elements that don't must be deleted.\n",
    "    \"\"\"   \n",
    "    mask_els = np.ones_like(els[:,0], dtype=bool)\n",
    "    protect_nodes = np.hstack((loads[:,0], BC)).astype(int)\n",
    "    protect_index = None\n",
    "    for p in protect_nodes:\n",
    "        protect_index = np.argwhere(els[:, -4:] == p)[:,0]\n",
    "        mask_els[protect_index] = False\n",
    "        \n",
    "    return mask_els\n",
    "    \n",
    "def del_node(nodes, els):\n",
    "    \"\"\"\n",
    "    Retricts nodes dof that aren't been used.\n",
    "    \n",
    "    Parameters\n",
    "    ----------\n",
    "    nodes : ndarray\n",
    "        Array with models nodes\n",
    "    els : ndarray\n",
    "        Array with models elements\n",
    "\n",
    "    Returns\n",
    "    -------\n",
    "    \"\"\"   \n",
    "    n_nodes = nodes.shape[0]\n",
    "    for n in range(n_nodes):\n",
    "        if n not in els[:, -4:]:\n",
    "            nodes[n, -2:] = -1\n",
    "\n",
    "def sensi_el(nodes, mats, els, loads):\n",
    "    \"\"\"\n",
    "    Calculate the sensitivity number for each element.\n",
    "    \n",
    "    Parameters\n",
    "    ----------\n",
    "    nodes : ndarray\n",
    "        Array with models nodes\n",
    "    mats : ndarray\n",
    "        Array with models materials\n",
    "    els : ndarray\n",
    "        Array with models elements\n",
    "    UC : ndarray\n",
    "        Displacements at nodes\n",
    "\n",
    "    Returns\n",
    "    -------\n",
    "    sensi_number : ndarray\n",
    "        Sensitivity number for each element.\n",
    "    \"\"\"   \n",
    "    _, stiff_mat, assem_op = is_equilibrium(nodes, mats, els, loads)\n",
    "    params = tuple(mats[els[0, 2], :])\n",
    "    elcoor = nodes[els[0, -4:], 1:3]\n",
    "    kloc, _ = uel.elast_quad4(elcoor, params)\n",
    "    print(kloc.shape)\n",
    "\n",
    "    for r, row in enumerate(assem_op[0, :]):\n",
    "        if row == -1:\n",
    "            for c, col in enumerate(assem_op[0, :]):\n",
    "                if col == -1:\n",
    "                    stiff_mat[row, col] -= kloc[r, c]\n",
    "\n",
    "    return stiff_mat"
   ]
  },
  {
   "cell_type": "code",
   "execution_count": 35,
   "metadata": {},
   "outputs": [
    {
     "name": "stdout",
     "output_type": "stream",
     "text": [
      "(206800000000.0, 0.28) [[-10.   -5. ]\n",
      " [ -9.5  -5. ]\n",
      " [ -9.5  -4. ]\n",
      " [-10.   -4. ]]\n",
      "(880, 880)\n"
     ]
    }
   ],
   "source": [
    "a = sensi_el(nodes, mats, els, loads)\n",
    "print(a.shape)"
   ]
  },
  {
   "cell_type": "code",
   "execution_count": 36,
   "metadata": {},
   "outputs": [
    {
     "name": "stdout",
     "output_type": "stream",
     "text": [
      "(399, 7)\n",
      "(880, 880)\n"
     ]
    }
   ],
   "source": [
    "mask_del = np.zeros_like(els[:,0], dtype=bool)\n",
    "mask_del[0] = True\n",
    "els = np.delete(els, mask_del, 0)\n",
    "print(els.shape)\n",
    "_, stiff_mat, assem_op = is_equilibrium(nodes, mats, els, loads)\n",
    "print(stiff_mat.shape)"
   ]
  },
  {
   "cell_type": "code",
   "execution_count": 37,
   "metadata": {},
   "outputs": [],
   "source": [
    "A = a!=stiff_mat"
   ]
  },
  {
   "cell_type": "code",
   "execution_count": 27,
   "metadata": {},
   "outputs": [
    {
     "data": {
      "text/plain": [
       "(880, 880)"
      ]
     },
     "execution_count": 27,
     "metadata": {},
     "output_type": "execute_result"
    }
   ],
   "source": [
    "A.shape"
   ]
  },
  {
   "cell_type": "code",
   "execution_count": 38,
   "metadata": {},
   "outputs": [
    {
     "data": {
      "text/plain": [
       "64"
      ]
     },
     "execution_count": 38,
     "metadata": {},
     "output_type": "execute_result"
    }
   ],
   "source": [
    "A.sum()"
   ]
  },
  {
   "cell_type": "code",
   "execution_count": 33,
   "metadata": {},
   "outputs": [
    {
     "data": {
      "text/plain": [
       "774336"
      ]
     },
     "execution_count": 33,
     "metadata": {},
     "output_type": "execute_result"
    }
   ],
   "source": [
    "880*880"
   ]
  },
  {
   "cell_type": "code",
   "execution_count": 34,
   "metadata": {
    "tags": []
   },
   "outputs": [],
   "source": [
    "nodes, mats, els, loads, BC = beam_1(L=20, H=10, nx=40, ny=10)\n",
    "elsI,nodesI = np.copy(els), np.copy(nodes)"
   ]
  },
  {
   "cell_type": "code",
   "execution_count": null,
   "metadata": {},
   "outputs": [],
   "source": [
    "IBC, UG = preprocessing(nodes, mats, els, loads)\n",
    "UCI, E_nodesI, S_nodesI = postprocessing(nodes, mats, els, IBC, UG)"
   ]
  },
  {
   "cell_type": "code",
   "execution_count": null,
   "metadata": {
    "tags": []
   },
   "outputs": [],
   "source": [
    "niter = 20\n",
    "RR = 0.01\n",
    "ER = 0.03\n",
    "V_opt = int(len(els) * 0.50)\n",
    "ELS = None\n",
    "for _ in range(niter):\n",
    "    if not is_equilibrium(nodes, mats, els, loads) or len(els) < V_opt: break\n",
    "    \n",
    "    IBC, UG = preprocessing(nodes, mats, els, loads)\n",
    "    UC, E_nodes, S_nodes = postprocessing(nodes, mats, els, IBC, UG)\n",
    "\n",
    "    sensi_number = sensi_el(nodes, mats, els, UC)\n",
    "    sensi_number = sensi_number/sensi_number.max()\n",
    "    mask_del = sensi_number < RR\n",
    "    mask_els = protect_els(els, loads, BC)\n",
    "    mask_del *= mask_els\n",
    "    ELS = els\n",
    "    \n",
    "    els = np.delete(els, mask_del, 0)\n",
    "    del_node(nodes, els)\n",
    "    RR += ER\n",
    "print(RR)"
   ]
  },
  {
   "cell_type": "code",
   "execution_count": null,
   "metadata": {
    "tags": []
   },
   "outputs": [],
   "source": [
    "pos.fields_plot(elsI, nodes, UCI, E_nodes=E_nodesI, S_nodes=S_nodesI)"
   ]
  },
  {
   "cell_type": "code",
   "execution_count": null,
   "metadata": {
    "tags": []
   },
   "outputs": [],
   "source": [
    "pos.fields_plot(ELS, nodes, UC, E_nodes=E_nodes, S_nodes=S_nodes)"
   ]
  }
 ],
 "metadata": {
  "kernelspec": {
   "display_name": "Python 3 (ipykernel)",
   "language": "python",
   "name": "python3"
  },
  "language_info": {
   "codemirror_mode": {
    "name": "ipython",
    "version": 3
   },
   "file_extension": ".py",
   "mimetype": "text/x-python",
   "name": "python",
   "nbconvert_exporter": "python",
   "pygments_lexer": "ipython3",
   "version": "3.9.13"
  },
  "vscode": {
   "interpreter": {
    "hash": "60b9f6cdbdcf5a0aad28eb2b1f82df1e6ba991238e1cf7ff49c881568d072335"
   }
  }
 },
 "nbformat": 4,
 "nbformat_minor": 4
}

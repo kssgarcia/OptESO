{
 "cells": [
  {
   "cell_type": "code",
   "execution_count": 1,
   "id": "a5d8075e-4486-4768-81a9-8a2e8c73647f",
   "metadata": {},
   "outputs": [],
   "source": [
    "import matplotlib.pyplot as plt\n",
    "import numpy as np\n",
    "\n",
    "import solidspy.preprocesor as pre\n",
    "import solidspy.assemutil as ass    \n",
    "import solidspy.solutil as sol      \n",
    "import solidspy.postprocesor as pos \n",
    "np.seterr(divide='ignore', invalid='ignore')\n",
    "\n",
    "from plane_trusses import *"
   ]
  },
  {
   "cell_type": "code",
   "execution_count": 2,
   "id": "7dac898f-1180-46dd-9fbc-db17d996e566",
   "metadata": {
    "tags": []
   },
   "outputs": [
    {
     "name": "stdout",
     "output_type": "stream",
     "text": [
      "Number of nodes: 12\n",
      "Number of elements: 21\n",
      "Number of equations: 20\n",
      "Duration for system solution: 0:00:00.000499\n"
     ]
    }
   ],
   "source": [
    "nodes = np.array([\n",
    "    [0,  0],\n",
    "    [2,  0],\n",
    "    [4,  0],\n",
    "    [6,  0],\n",
    "    [8,  0],\n",
    "    [10, 0],\n",
    "    [12, 0],\n",
    "    [2,  1],\n",
    "    [10, 1],\n",
    "    [4,  2],\n",
    "    [8,  2],\n",
    "    [6,  3]])\n",
    "cons = np.array([\n",
    "    [-1, -1],\n",
    "    [0, 0],\n",
    "    [0, 0],\n",
    "    [0, 0],\n",
    "    [0, 0],\n",
    "    [0, 0],\n",
    "    [-1, -1],\n",
    "    [0, 0],\n",
    "    [0, 0],\n",
    "    [0, 0],\n",
    "    [0, 0],\n",
    "    [0, 0]], dtype=int)\n",
    "loads = np.array([\n",
    "    [0, 0],\n",
    "    [0, 0],\n",
    "    [0, 0],\n",
    "    [0, 0],\n",
    "    [0, 0],\n",
    "    [0, 0],\n",
    "    [0, 0],\n",
    "    [0, -2],\n",
    "    [0, -2],\n",
    "    [0, -2],\n",
    "    [0, -2],\n",
    "    [0, -2]])\n",
    "elements = np.array([\n",
    "    [0, 0,  1],\n",
    "    [0, 1,  7],\n",
    "    [0, 7,  0],\n",
    "    [0, 1,  2],\n",
    "    [0, 2,  7],\n",
    "    [0, 2,  3],\n",
    "    [0, 3,  9],\n",
    "    [0, 9,  2],\n",
    "    [0, 3,  4],\n",
    "    [0, 4,  10],\n",
    "    [0, 10, 3],\n",
    "    [0, 3,  11],\n",
    "    [0, 4,  5],\n",
    "    [0, 5,  8],\n",
    "    [0, 8,  4],\n",
    "    [0, 8,  10],\n",
    "    [0, 5,  6],\n",
    "    [0, 6,  8],\n",
    "    [0, 10, 11],\n",
    "    [0, 11, 9],\n",
    "    [0, 9,  7]], dtype=int)\n",
    "mats = np.array([[1, 1]])\n",
    "\n",
    "data = {\n",
    "  \"nodes\": nodes,\n",
    "  \"cons\": cons,\n",
    "  \"elements\": elements,\n",
    "  \"loads\": loads,\n",
    "  \"mats\": mats}\n",
    "disp = analysis(data, verbose=True)"
   ]
  },
  {
   "cell_type": "code",
   "execution_count": 5,
   "id": "0d9be0d7-e2de-4c83-847d-5c1e5c319677",
   "metadata": {},
   "outputs": [
    {
     "name": "stdout",
     "output_type": "stream",
     "text": [
      "[[ 0.00000000e+00  0.00000000e+00]\n",
      " [ 1.33333333e+00 -1.06470792e+02]\n",
      " [ 2.66666667e+00 -1.40526211e+02]\n",
      " [-3.95852785e-14 -1.46164079e+02]\n",
      " [-2.66666667e+00 -1.40526211e+02]\n",
      " [-1.33333333e+00 -1.06470792e+02]\n",
      " [ 0.00000000e+00  0.00000000e+00]\n",
      " [ 2.52845462e+01 -1.06470792e+02]\n",
      " [-2.52845462e+01 -1.06470792e+02]\n",
      " [ 1.89515761e+01 -1.38526211e+02]\n",
      " [-1.89515761e+01 -1.38526211e+02]\n",
      " [-5.94435503e-15 -1.34164079e+02]]\n"
     ]
    },
    {
     "data": {
      "text/plain": [
       "<Figure size 640x480 with 0 Axes>"
      ]
     },
     "metadata": {},
     "output_type": "display_data"
    }
   ],
   "source": [
    "pos.fields_plot(elements, nodes, disp, E_nodes=disp, S_nodes=disp)"
   ]
  },
  {
   "cell_type": "code",
   "execution_count": 6,
   "id": "48835810-2dbe-4008-918a-46653f36c8f6",
   "metadata": {},
   "outputs": [
    {
     "ename": "IndexError",
     "evalue": "index 2 is out of bounds for axis 1 with size 2",
     "output_type": "error",
     "traceback": [
      "\u001b[0;31m---------------------------------------------------------------------------\u001b[0m",
      "\u001b[0;31mIndexError\u001b[0m                                Traceback (most recent call last)",
      "\u001b[0;32m/tmp/ipykernel_65661/3828666329.py\u001b[0m in \u001b[0;36m<module>\u001b[0;34m\u001b[0m\n\u001b[1;32m      1\u001b[0m \u001b[0mplt\u001b[0m\u001b[0;34m.\u001b[0m\u001b[0mfigure\u001b[0m\u001b[0;34m(\u001b[0m\u001b[0;34m)\u001b[0m\u001b[0;34m\u001b[0m\u001b[0;34m\u001b[0m\u001b[0m\n\u001b[0;32m----> 2\u001b[0;31m \u001b[0mpos\u001b[0m\u001b[0;34m.\u001b[0m\u001b[0mplot_node_field\u001b[0m\u001b[0;34m(\u001b[0m\u001b[0mdisp\u001b[0m\u001b[0;34m,\u001b[0m \u001b[0mnodes\u001b[0m\u001b[0;34m,\u001b[0m \u001b[0melements\u001b[0m\u001b[0;34m)\u001b[0m\u001b[0;34m\u001b[0m\u001b[0;34m\u001b[0m\u001b[0m\n\u001b[0m",
      "\u001b[0;32m~/anaconda3/lib/python3.9/site-packages/solidspy/postprocesor.py\u001b[0m in \u001b[0;36mplot_node_field\u001b[0;34m(field, nodes, elements, plt_type, levels, savefigs, title, figtitle, filename)\u001b[0m\n\u001b[1;32m    148\u001b[0m         \u001b[0mwhere\u001b[0m\u001b[0;31m \u001b[0m\u001b[0;31m`\u001b[0m\u001b[0mk\u001b[0m\u001b[0;31m`\u001b[0m \u001b[0;32mis\u001b[0m \u001b[0mthe\u001b[0m \u001b[0mnumber\u001b[0m \u001b[0mof\u001b[0m \u001b[0mthe\u001b[0m \u001b[0mcolumn\u001b[0m\u001b[0;34m.\u001b[0m\u001b[0;34m\u001b[0m\u001b[0;34m\u001b[0m\u001b[0m\n\u001b[1;32m    149\u001b[0m     \"\"\"\n\u001b[0;32m--> 150\u001b[0;31m     \u001b[0mtri\u001b[0m \u001b[0;34m=\u001b[0m \u001b[0mmesh2tri\u001b[0m\u001b[0;34m(\u001b[0m\u001b[0mnodes\u001b[0m\u001b[0;34m,\u001b[0m \u001b[0melements\u001b[0m\u001b[0;34m)\u001b[0m\u001b[0;34m\u001b[0m\u001b[0;34m\u001b[0m\u001b[0m\n\u001b[0m\u001b[1;32m    151\u001b[0m     \u001b[0;32mif\u001b[0m \u001b[0mlen\u001b[0m\u001b[0;34m(\u001b[0m\u001b[0mfield\u001b[0m\u001b[0;34m.\u001b[0m\u001b[0mshape\u001b[0m\u001b[0;34m)\u001b[0m \u001b[0;34m==\u001b[0m \u001b[0;36m1\u001b[0m\u001b[0;34m:\u001b[0m\u001b[0;34m\u001b[0m\u001b[0;34m\u001b[0m\u001b[0m\n\u001b[1;32m    152\u001b[0m         \u001b[0mnfields\u001b[0m \u001b[0;34m=\u001b[0m \u001b[0;36m1\u001b[0m\u001b[0;34m\u001b[0m\u001b[0;34m\u001b[0m\u001b[0m\n",
      "\u001b[0;32m~/anaconda3/lib/python3.9/site-packages/solidspy/postprocesor.py\u001b[0m in \u001b[0;36mmesh2tri\u001b[0;34m(nodes, elements)\u001b[0m\n\u001b[1;32m    264\u001b[0m     \"\"\"\n\u001b[1;32m    265\u001b[0m     \u001b[0mcoord_x\u001b[0m \u001b[0;34m=\u001b[0m \u001b[0mnodes\u001b[0m\u001b[0;34m[\u001b[0m\u001b[0;34m:\u001b[0m\u001b[0;34m,\u001b[0m \u001b[0;36m1\u001b[0m\u001b[0;34m]\u001b[0m\u001b[0;34m\u001b[0m\u001b[0;34m\u001b[0m\u001b[0m\n\u001b[0;32m--> 266\u001b[0;31m     \u001b[0mcoord_y\u001b[0m \u001b[0;34m=\u001b[0m \u001b[0mnodes\u001b[0m\u001b[0;34m[\u001b[0m\u001b[0;34m:\u001b[0m\u001b[0;34m,\u001b[0m \u001b[0;36m2\u001b[0m\u001b[0;34m]\u001b[0m\u001b[0;34m\u001b[0m\u001b[0;34m\u001b[0m\u001b[0m\n\u001b[0m\u001b[1;32m    267\u001b[0m     \u001b[0mtriangs\u001b[0m \u001b[0;34m=\u001b[0m \u001b[0;34m[\u001b[0m\u001b[0;34m]\u001b[0m\u001b[0;34m\u001b[0m\u001b[0;34m\u001b[0m\u001b[0m\n\u001b[1;32m    268\u001b[0m     \u001b[0;32mfor\u001b[0m \u001b[0melem\u001b[0m \u001b[0;32min\u001b[0m \u001b[0melements\u001b[0m\u001b[0;34m:\u001b[0m\u001b[0;34m\u001b[0m\u001b[0;34m\u001b[0m\u001b[0m\n",
      "\u001b[0;31mIndexError\u001b[0m: index 2 is out of bounds for axis 1 with size 2"
     ]
    },
    {
     "data": {
      "text/plain": [
       "<Figure size 640x480 with 0 Axes>"
      ]
     },
     "metadata": {},
     "output_type": "display_data"
    }
   ],
   "source": [
    "plt.figure()\n",
    "pos.plot_node_field(disp, nodes, elements)"
   ]
  }
 ],
 "metadata": {
  "kernelspec": {
   "display_name": "Python 3 (ipykernel)",
   "language": "python",
   "name": "python3"
  },
  "language_info": {
   "codemirror_mode": {
    "name": "ipython",
    "version": 3
   },
   "file_extension": ".py",
   "mimetype": "text/x-python",
   "name": "python",
   "nbconvert_exporter": "python",
   "pygments_lexer": "ipython3",
   "version": "3.9.13"
  }
 },
 "nbformat": 4,
 "nbformat_minor": 5
}

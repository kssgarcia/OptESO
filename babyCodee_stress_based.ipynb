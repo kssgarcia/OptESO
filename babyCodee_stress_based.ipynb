{
 "cells": [
  {
   "cell_type": "code",
   "execution_count": 1,
   "metadata": {
    "tags": []
   },
   "outputs": [],
   "source": [
    "%load_ext autoreload"
   ]
  },
  {
   "cell_type": "code",
   "execution_count": 2,
   "metadata": {},
   "outputs": [
    {
     "data": {
      "text/plain": [
       "{'divide': 'warn', 'over': 'warn', 'under': 'ignore', 'invalid': 'warn'}"
      ]
     },
     "execution_count": 2,
     "metadata": {},
     "output_type": "execute_result"
    }
   ],
   "source": [
    "import matplotlib.pyplot as plt\n",
    "import numpy as np\n",
    "from beams import *\n",
    "\n",
    "import solidspy.assemutil as ass    \n",
    "import solidspy.solutil as sol      \n",
    "import solidspy.postprocesor as pos \n",
    "np.seterr(divide='ignore', invalid='ignore')"
   ]
  },
  {
   "cell_type": "code",
   "execution_count": 3,
   "metadata": {
    "tags": []
   },
   "outputs": [],
   "source": [
    "def is_equilibrium(nodes, mats, els, loads):\n",
    "    \"\"\"\n",
    "    Check if the system is in equilibrium\n",
    "    \n",
    "    Get from: https://github.com/AppliedMechanics-EAFIT/SolidsPy/blob/master/solidspy/solids_GUI.py\n",
    "    \n",
    "    Parameters\n",
    "    ----------\n",
    "    nodes : ndarray\n",
    "        Array with models nodes\n",
    "    mats : ndarray\n",
    "        Array with models materials\n",
    "    els : ndarray\n",
    "        Array with models elements\n",
    "    loads : ndarray\n",
    "        Array with models loads\n",
    "        \n",
    "    Returns\n",
    "    -------\n",
    "    equil : bool\n",
    "        Variable True when the system is in equilibrium and False when it doesn't\n",
    "    \"\"\"   \n",
    "\n",
    "    equil = True\n",
    "    DME, IBC, neq = ass.DME(nodes, els)\n",
    "    KG = ass.assembler(els, mats, nodes, neq, DME)\n",
    "    RHSG = ass.loadasem(loads, IBC, neq)\n",
    "    UG = sol.static_sol(KG, RHSG)\n",
    "    \n",
    "    if not(np.allclose(KG.dot(UG)/KG.max(), RHSG/KG.max())):\n",
    "        equil = False\n",
    "    return equil\n",
    "    \n",
    "def preprocessing(nodes, mats, els, loads):\n",
    "    \"\"\"\n",
    "    Compute IBC matrix and the static solve.\n",
    "    \n",
    "    Get from: https://github.com/AppliedMechanics-EAFIT/SolidsPy/blob/master/solidspy/solids_GUI.py\n",
    "    \n",
    "    Parameters\n",
    "    ----------\n",
    "    nodes : ndarray\n",
    "        Array with models nodes\n",
    "    mats : ndarray\n",
    "        Array with models materials\n",
    "    els : ndarray\n",
    "        Array with models elements\n",
    "    loads : ndarray\n",
    "        Array with models loads\n",
    "        \n",
    "    Returns\n",
    "    -------\n",
    "    IBC : ndarray \n",
    "        Boundary conditions array\n",
    "    UG : ndarray \n",
    "        Static displacement solve.\n",
    "    \"\"\"   \n",
    "\n",
    "    # Pre-processing\n",
    "    DME, IBC, neq = ass.DME(nodes, els)\n",
    "    print(\"Number of elements: {}\".format(els.shape[0]))\n",
    "\n",
    "    # System assembly\n",
    "    KG = ass.assembler(els, mats, nodes, neq, DME)\n",
    "    RHSG = ass.loadasem(loads, IBC, neq)\n",
    "\n",
    "    # System solution\n",
    "    UG = sol.static_sol(KG, RHSG)\n",
    "    if not(np.allclose(KG.dot(UG)/KG.max(), RHSG/KG.max())):\n",
    "        print(\"The system is not in equilibrium!\")\n",
    "    return IBC, UG\n",
    "\n",
    "def postprocessing(nodes, mats, els, IBC, UG):\n",
    "    \"\"\"\n",
    "    Compute the nodes displacements, strains and stresses.\n",
    "    \n",
    "    Get from: https://github.com/AppliedMechanics-EAFIT/SolidsPy/blob/master/solidspy/solids_GUI.py\n",
    "    \n",
    "    Parameters\n",
    "    ----------\n",
    "    nodes : ndarray\n",
    "        Array with models nodes\n",
    "    mats : ndarray\n",
    "        Array with models materials\n",
    "    els : ndarray\n",
    "        Array with models elements\n",
    "    IBC : ndarray \n",
    "        Boundary conditions array\n",
    "    UG : ndarray \n",
    "        Static solve.\n",
    "        \n",
    "    Returns\n",
    "    -------\n",
    "    UC : ndarray \n",
    "        Displacements at elements.\n",
    "    E_nodes : ndarray \n",
    "        Strains at elements.\n",
    "    S_nodes : ndarray \n",
    "        Stresses at elements.\n",
    "    \"\"\"   \n",
    "    \n",
    "    UC = pos.complete_disp(IBC, nodes, UG)\n",
    "    E_nodes, S_nodes = None, None\n",
    "    E_nodes, S_nodes = pos.strain_nodes(nodes , els, mats, UC)\n",
    "    \n",
    "    return UC, E_nodes, S_nodes\n"
   ]
  },
  {
   "cell_type": "code",
   "execution_count": 4,
   "metadata": {
    "tags": []
   },
   "outputs": [],
   "source": [
    "def strain_els(els, E_nodes, S_nodes):\n",
    "    \"\"\"\n",
    "    Compute the elements strains and stresses.\n",
    "    \n",
    "    Get from: https://github.com/AppliedMechanics-EAFIT/SolidsPy/blob/master/solidspy/solids_GUI.py\n",
    "    \n",
    "    Parameters\n",
    "    ----------\n",
    "    els : ndarray\n",
    "        Array with models elements\n",
    "    E_nodes : ndarray\n",
    "        Strains at nodes.\n",
    "    S_nodes : ndarray\n",
    "        Stresses at nodes.\n",
    "        \n",
    "    Returns\n",
    "    -------\n",
    "    E_els : ndarray (nnodes, 3)\n",
    "        Strains at elements.\n",
    "    S_els : ndarray (nnodes, 3)\n",
    "        Stresses at elements.\n",
    "    \"\"\"   \n",
    "    \n",
    "    E_els = []\n",
    "    S_els = []\n",
    "    for el in els:\n",
    "        strain_nodes = np.take(E_nodes, list(el[3:]), 0)\n",
    "        stress_nodes = np.take(S_nodes, list(el[3:]), 0)\n",
    "        strain_elemt = (strain_nodes[0] + strain_nodes[1] + strain_nodes[2] + strain_nodes[3]) / 4\n",
    "        stress_elemt = (stress_nodes[0] + stress_nodes[1] + stress_nodes[2] + stress_nodes[3]) / 4\n",
    "        E_els.append(strain_elemt)\n",
    "        S_els.append(stress_elemt)\n",
    "    E_els = np.array(E_els)\n",
    "    S_els = np.array(S_els)\n",
    "    \n",
    "    return E_els, S_els\n",
    "\n",
    "def protect_els(els, loads, BC):\n",
    "    \"\"\"\n",
    "    Compute an mask array with the elements that don't must be deleted.\n",
    "    \n",
    "    Get from: https://github.com/AppliedMechanics-EAFIT/SolidsPy/blob/master/solidspy/solids_GUI.py\n",
    "    \n",
    "    Parameters\n",
    "    ----------\n",
    "    els : ndarray\n",
    "        Array with models elements\n",
    "    loads : ndarray\n",
    "        Array with models loads\n",
    "    BC : ndarray \n",
    "        Boundary conditions nodes\n",
    "        \n",
    "    Returns\n",
    "    -------\n",
    "    mask_els : ndarray \n",
    "        Array with the elements that don't must be deleted.\n",
    "    \"\"\"   \n",
    "    mask_els = np.ones_like(els[:,0], dtype=bool)\n",
    "    protect_nodes = np.hstack((loads[:,0], BC)).astype(int)\n",
    "    protect_index = None\n",
    "    for p in protect_nodes:\n",
    "        protect_index = np.argwhere(els[:, -4:] == p)[:,0]\n",
    "        mask_els[protect_index] = False\n",
    "        \n",
    "    return mask_els\n",
    "\n",
    "def del_node(nodes, els):\n",
    "    \"\"\"\n",
    "    Retricts nodes dof that aren't been used.\n",
    "    \n",
    "    Get from: https://github.com/AppliedMechanics-EAFIT/SolidsPy/blob/master/solidspy/solids_GUI.py\n",
    "    \n",
    "    Parameters\n",
    "    ----------\n",
    "    nodes : ndarray\n",
    "        Array with models nodes\n",
    "    els : ndarray\n",
    "        Array with models elements\n",
    "\n",
    "    Returns\n",
    "    -------\n",
    "    \"\"\"   \n",
    "    n_nodes = nodes.shape[0]\n",
    "    for n in range(n_nodes):\n",
    "        if n not in els[:, -4:]:\n",
    "            nodes[n, -2:] = -1"
   ]
  },
  {
   "cell_type": "code",
   "execution_count": 5,
   "metadata": {
    "tags": []
   },
   "outputs": [],
   "source": [
    "nodes, mats, els, loads, BC = beam_2(L=10, H=24, nx=20, ny=40)\n",
    "elsI,nodesI = np.copy(els), np.copy(nodes)"
   ]
  },
  {
   "cell_type": "code",
   "execution_count": 6,
   "metadata": {},
   "outputs": [
    {
     "ename": "ValueError",
     "evalue": "could not broadcast input array from shape (20,) into shape (8,)",
     "output_type": "error",
     "traceback": [
      "\u001b[0;31m---------------------------------------------------------------------------\u001b[0m",
      "\u001b[0;31mValueError\u001b[0m                                Traceback (most recent call last)",
      "\u001b[0;32m/tmp/ipykernel_17833/300113743.py\u001b[0m in \u001b[0;36m<module>\u001b[0;34m\u001b[0m\n\u001b[0;32m----> 1\u001b[0;31m \u001b[0mIBC\u001b[0m\u001b[0;34m,\u001b[0m \u001b[0mUG\u001b[0m \u001b[0;34m=\u001b[0m \u001b[0mpreprocessing\u001b[0m\u001b[0;34m(\u001b[0m\u001b[0mnodes\u001b[0m\u001b[0;34m,\u001b[0m \u001b[0mmats\u001b[0m\u001b[0;34m,\u001b[0m \u001b[0mels\u001b[0m\u001b[0;34m,\u001b[0m \u001b[0mloads\u001b[0m\u001b[0;34m)\u001b[0m\u001b[0;34m\u001b[0m\u001b[0;34m\u001b[0m\u001b[0m\n\u001b[0m\u001b[1;32m      2\u001b[0m \u001b[0mUCI\u001b[0m\u001b[0;34m,\u001b[0m \u001b[0mE_nodesI\u001b[0m\u001b[0;34m,\u001b[0m \u001b[0mS_nodesI\u001b[0m \u001b[0;34m=\u001b[0m \u001b[0mpostprocessing\u001b[0m\u001b[0;34m(\u001b[0m\u001b[0mnodes\u001b[0m\u001b[0;34m,\u001b[0m \u001b[0mmats\u001b[0m\u001b[0;34m,\u001b[0m \u001b[0mels\u001b[0m\u001b[0;34m,\u001b[0m \u001b[0mIBC\u001b[0m\u001b[0;34m,\u001b[0m \u001b[0mUG\u001b[0m\u001b[0;34m)\u001b[0m\u001b[0;34m\u001b[0m\u001b[0;34m\u001b[0m\u001b[0m\n",
      "\u001b[0;32m/tmp/ipykernel_17833/3529803126.py\u001b[0m in \u001b[0;36mpreprocessing\u001b[0;34m(nodes, mats, els, loads)\u001b[0m\n\u001b[1;32m     58\u001b[0m \u001b[0;34m\u001b[0m\u001b[0m\n\u001b[1;32m     59\u001b[0m     \u001b[0;31m# Pre-processing\u001b[0m\u001b[0;34m\u001b[0m\u001b[0;34m\u001b[0m\u001b[0m\n\u001b[0;32m---> 60\u001b[0;31m     \u001b[0mDME\u001b[0m\u001b[0;34m,\u001b[0m \u001b[0mIBC\u001b[0m\u001b[0;34m,\u001b[0m \u001b[0mneq\u001b[0m \u001b[0;34m=\u001b[0m \u001b[0mass\u001b[0m\u001b[0;34m.\u001b[0m\u001b[0mDME\u001b[0m\u001b[0;34m(\u001b[0m\u001b[0mnodes\u001b[0m\u001b[0;34m,\u001b[0m \u001b[0mels\u001b[0m\u001b[0;34m)\u001b[0m\u001b[0;34m\u001b[0m\u001b[0;34m\u001b[0m\u001b[0m\n\u001b[0m\u001b[1;32m     61\u001b[0m     \u001b[0mprint\u001b[0m\u001b[0;34m(\u001b[0m\u001b[0;34m\"Number of elements: {}\"\u001b[0m\u001b[0;34m.\u001b[0m\u001b[0mformat\u001b[0m\u001b[0;34m(\u001b[0m\u001b[0mels\u001b[0m\u001b[0;34m.\u001b[0m\u001b[0mshape\u001b[0m\u001b[0;34m[\u001b[0m\u001b[0;36m0\u001b[0m\u001b[0;34m]\u001b[0m\u001b[0;34m)\u001b[0m\u001b[0;34m)\u001b[0m\u001b[0;34m\u001b[0m\u001b[0;34m\u001b[0m\u001b[0m\n\u001b[1;32m     62\u001b[0m \u001b[0;34m\u001b[0m\u001b[0m\n",
      "\u001b[0;32m~/Documents/OneDrive-EAFIT/Documents/Universidad/BabyOptAlgorithm/SolidsPy/solidspy/assemutil.py\u001b[0m in \u001b[0;36mDME\u001b[0;34m(cons, elements, ndof_node, ndof_el_max, ndof_el)\u001b[0m\n\u001b[1;32m     85\u001b[0m         \u001b[0;32melse\u001b[0m\u001b[0;34m:\u001b[0m\u001b[0;34m\u001b[0m\u001b[0;34m\u001b[0m\u001b[0m\n\u001b[1;32m     86\u001b[0m             \u001b[0mndof\u001b[0m \u001b[0;34m=\u001b[0m \u001b[0mndof_el\u001b[0m\u001b[0;34m(\u001b[0m\u001b[0miet\u001b[0m\u001b[0;34m)\u001b[0m\u001b[0;34m\u001b[0m\u001b[0;34m\u001b[0m\u001b[0m\n\u001b[0;32m---> 87\u001b[0;31m         \u001b[0massem_op\u001b[0m\u001b[0;34m[\u001b[0m\u001b[0mele\u001b[0m\u001b[0;34m,\u001b[0m \u001b[0;34m:\u001b[0m\u001b[0mndof\u001b[0m\u001b[0;34m]\u001b[0m \u001b[0;34m=\u001b[0m \u001b[0mbc_array\u001b[0m\u001b[0;34m[\u001b[0m\u001b[0melements\u001b[0m\u001b[0;34m[\u001b[0m\u001b[0mele\u001b[0m\u001b[0;34m,\u001b[0m \u001b[0;36m3\u001b[0m\u001b[0;34m:\u001b[0m\u001b[0;34m]\u001b[0m\u001b[0;34m]\u001b[0m\u001b[0;34m.\u001b[0m\u001b[0mflatten\u001b[0m\u001b[0;34m(\u001b[0m\u001b[0;34m)\u001b[0m\u001b[0;34m\u001b[0m\u001b[0;34m\u001b[0m\u001b[0m\n\u001b[0m\u001b[1;32m     88\u001b[0m     \u001b[0;32mreturn\u001b[0m \u001b[0massem_op\u001b[0m\u001b[0;34m,\u001b[0m \u001b[0mbc_array\u001b[0m\u001b[0;34m,\u001b[0m \u001b[0mneq\u001b[0m\u001b[0;34m\u001b[0m\u001b[0;34m\u001b[0m\u001b[0m\n\u001b[1;32m     89\u001b[0m \u001b[0;34m\u001b[0m\u001b[0m\n",
      "\u001b[0;31mValueError\u001b[0m: could not broadcast input array from shape (20,) into shape (8,)"
     ]
    }
   ],
   "source": [
    "IBC, UG = preprocessing(nodes, mats, els, loads)\n",
    "UCI, E_nodesI, S_nodesI = postprocessing(nodes, mats, els, IBC, UG)"
   ]
  },
  {
   "cell_type": "code",
   "execution_count": null,
   "metadata": {
    "tags": []
   },
   "outputs": [],
   "source": [
    "niter = 20\n",
    "RR = 0.01\n",
    "ER = 0.03\n",
    "V_opt = int(len(els) * 0.50)\n",
    "\n",
    "ELS = None\n",
    "for _ in range(niter):\n",
    "    if not is_equilibrium(nodes, mats, els, loads) or len(els) < V_opt: break\n",
    "    \n",
    "    IBC, UG = preprocessing(nodes, mats, els, loads)\n",
    "    UC, E_nodes, S_nodes = postprocessing(nodes, mats, els, IBC, UG)\n",
    "    E_els, S_els = strain_els(els, E_nodes, S_nodes)\n",
    "    vons = np.sqrt(S_els[:,0]**2 - (S_els[:,0]*S_els[:,1]) + S_els[:,1]**2 + 3*S_els[:,2]**2)\n",
    "    RR_el = vons/vons.max()\n",
    "    mask_del = RR_el < RR\n",
    "    mask_els = protect_els(els, loads, BC)\n",
    "    mask_del *= mask_els\n",
    "    ELS = els\n",
    "    \n",
    "    els = np.delete(els, mask_del, 0)\n",
    "    del_node(nodes, els)\n",
    "    RR += ER\n",
    "print(RR)"
   ]
  },
  {
   "cell_type": "code",
   "execution_count": null,
   "metadata": {
    "tags": []
   },
   "outputs": [],
   "source": [
    "pos.fields_plot(elsI, nodes, UCI, E_nodes=E_nodesI, S_nodes=S_nodesI)"
   ]
  },
  {
   "cell_type": "code",
   "execution_count": null,
   "metadata": {
    "tags": []
   },
   "outputs": [],
   "source": [
    "pos.fields_plot(ELS, nodes, UC, E_nodes=E_nodes, S_nodes=S_nodes)"
   ]
  }
 ],
 "metadata": {
  "kernelspec": {
   "display_name": "Python 3 (ipykernel)",
   "language": "python",
   "name": "python3"
  },
  "language_info": {
   "codemirror_mode": {
    "name": "ipython",
    "version": 3
   },
   "file_extension": ".py",
   "mimetype": "text/x-python",
   "name": "python",
   "nbconvert_exporter": "python",
   "pygments_lexer": "ipython3",
   "version": "3.9.13"
  },
  "vscode": {
   "interpreter": {
    "hash": "53940a64a84baee84115dac011860f2172ae7d73a9743277e4d3478cbdc68394"
   }
  }
 },
 "nbformat": 4,
 "nbformat_minor": 4
}

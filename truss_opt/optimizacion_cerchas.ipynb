{
 "cells": [
  {
   "cell_type": "markdown",
   "metadata": {},
   "source": [
    "Contenido bajo licencia Creative Commons BY 4.0 y código bajo licencia MIT. © Nicolás Guarín-Zapata 2020."
   ]
  },
  {
   "cell_type": "markdown",
   "metadata": {},
   "source": [
    "# Optimización de cerchas planas"
   ]
  },
  {
   "cell_type": "markdown",
   "metadata": {},
   "source": [
    "Como función objetivo deseamos maximizar la rigidez de la estructura.\n",
    "Esto es equivalente a minimizar su flexibilidad, que puede escribirse como\n",
    "\n",
    "$$C = \\mathbf{f}^T \\mathbf{u}\\,,$$\n",
    "\n",
    "en donde $\\mathbf{f}$ es e vector de cargas y $\\mathbf{u}$ el vector de\n",
    "desplazamientos. En inglés al término flexibilidad se le conoce como\n",
    "_flexibility_ o _compliance_. Por tanto, si tenemos una estructura hecha\n",
    "de barras con secciones transversales $A_i$, el problema de optimización\n",
    "serı́a\n",
    "\n",
    "$$\\min_{A_i}  \\mathbf{f}^T \\mathbf{u} .$$\n",
    "\n",
    "El equilibro de la estructura es una condición que siempre debe cumplirse,\n",
    "y está dada por\n",
    "\n",
    "$\\mathbf{K} \\mathbf{u} = \\mathbf{f}\\, ,$$\n",
    "\n",
    "y, en nuestro caso, ``SolidsPy`` se encarga de encontrar el vector de\n",
    "desplazamientos a partir de un vector de cargas dado.\n",
    "\n",
    "Adicionalmente, tenemos condiciones de peso máximo sobre la cercha, que\n",
    "están dadas por\n",
    "\n",
    "$$w_{\\max} = \\rho\\sum_{i=0}^{N} L_i A_i\\, ,$$\n",
    "\n",
    "en donde $L_i$ es la longitud de la $i$-ésima barra."
   ]
  },
  {
   "cell_type": "markdown",
   "metadata": {},
   "source": [
    "## Problema de optimización"
   ]
  },
  {
   "cell_type": "markdown",
   "metadata": {},
   "source": [
    "El problema de optimización que nos interesa es el de minimizar la flexibilidad\n",
    "(maximizar la rigidez) de una estructura, con un peso máximo $w_{\\max}$ dado y\n",
    "que satisfaga equilibrio. Matemáticamente podemos escribir este problema como\n",
    "\n",
    "\\begin{equation*}\n",
    "\\begin{aligned}\n",
    "& \\underset{A_i}{\\text{minimizar}}\n",
    "& & \\mathbf{f}^T \\mathbf{u} \\\\\n",
    "& \\text{sujeto a}\n",
    "& & w_{\\max} - \\rho \\sum_{i=0}^N L_i A_i  \\geq 0\\, ,\\\\\n",
    "& & & A_i - A_{\\min} > 0\\quad \\forall i ,\\\\\n",
    "& & & A_{\\max} - A_i > 0\\quad \\forall i ,\\\\\n",
    "& & & \\mathbf{K} \\mathbf{u} = \\mathbf{f}\\, .\n",
    "\\end{aligned}\n",
    "\\end{equation*}\n",
    "\n",
    "Pero la última condición se satisface de manera trivial si $\\mathbf{u}$ es\n",
    "solución de\n",
    "\n",
    "$$\\mathbf{K} \\mathbf{u} = \\mathbf{f}\\, ,$$\n",
    "\n",
    "que en nuestro caso se cumple. Por tanto, tenemos el siguiente problema\n",
    "\n",
    "\\begin{equation*}\n",
    "\\begin{aligned}\n",
    "& \\underset{A_i}{\\text{minimizar}}\n",
    "& & \\mathbf{f}^T \\mathbf{u} \\\\\n",
    "& \\text{sujeto a}\n",
    "& & w_{\\max} - \\rho \\sum_{i=0}^N L_i A_i  \\geq 0\\, ,\\\\\n",
    "& & & A_i - A_{\\min} > 0\\quad \\forall i ,\\\\\n",
    "& & & A_{\\max} - A_i > 0\\quad \\forall i\\,  .\n",
    "\\end{aligned}\n",
    "\\end{equation*}"
   ]
  },
  {
   "cell_type": "markdown",
   "metadata": {},
   "source": [
    "## Solución del problema"
   ]
  },
  {
   "cell_type": "markdown",
   "metadata": {},
   "source": [
    "### Importación de bibliotecas"
   ]
  },
  {
   "cell_type": "code",
   "execution_count": 1,
   "metadata": {},
   "outputs": [],
   "source": [
    "%matplotlib widget\n",
    "import numpy as np\n",
    "import matplotlib.pyplot as plt\n",
    "from scipy.optimize import minimize\n",
    "import solidspy.postprocesor as pos"
   ]
  },
  {
   "cell_type": "markdown",
   "metadata": {},
   "source": [
    "También necesitamos importar algunas funciones del módulo\n",
    "truss_opt"
   ]
  },
  {
   "cell_type": "code",
   "execution_count": 2,
   "metadata": {},
   "outputs": [],
   "source": [
    "from truss_opt import weight, compliance, fem_sol, plot_truss"
   ]
  },
  {
   "cell_type": "markdown",
   "metadata": {},
   "source": [
    "### Diseño original"
   ]
  },
  {
   "cell_type": "markdown",
   "metadata": {},
   "source": [
    "Queremos, optimizar el grosor de la siguiente cercha.\n",
    "\n",
    "\n",
    "<img src=\"img/cercha_techo.svg\"/>"
   ]
  },
  {
   "cell_type": "code",
   "execution_count": 3,
   "metadata": {},
   "outputs": [],
   "source": [
    "nodes = np.array([\n",
    "           [ 0,  0.0,  0.0, -1, -1],\n",
    "           [ 1,  2.0,  0.0,  0,  0],\n",
    "           [ 2,  4.0,  0.0,  0,  0],\n",
    "           [ 3,  6.0,  0.0,  0,  0],\n",
    "           [ 4,  8.0,  0.0,  0,  0],\n",
    "           [ 5, 10.0,  0.0,  0,  0],\n",
    "           [ 6, 12.0,  0.0,  0, -1],\n",
    "           [ 7,  2.0,  1.0,  0,  0],\n",
    "           [ 8, 10.0,  1.0,  0,  0],\n",
    "           [ 9,  4.0,  2.0,  0,  0],\n",
    "           [10,  8.0,  2.0,  0,  0],\n",
    "           [11,  6.0,  3.0,  0,  0]])\n",
    "mats = np.column_stack((np.full(21, 1e6),\n",
    "                        np.full(21, 1e-2)))\n",
    "eles = np.array([\n",
    "           [ 0,  6,  0,  0,  1],\n",
    "           [ 1,  6,  1,  1,  7],\n",
    "           [ 2,  6,  2,  7,  0],\n",
    "           [ 3,  6,  3,  1,  2],\n",
    "           [ 4,  6,  4,  2,  7],\n",
    "           [ 5,  6,  5,  2,  3],\n",
    "           [ 6,  6,  6,  3,  9],\n",
    "           [ 7,  6,  7,  9,  2],\n",
    "           [ 8,  6,  8,  3,  4],\n",
    "           [ 9,  6,  9,  4, 10],\n",
    "           [10,  6, 10, 10,  3],\n",
    "           [11,  6, 11,  3, 11],\n",
    "           [12,  6, 12,  4,  5],\n",
    "           [13,  6, 13,  5,  8],\n",
    "           [14,  6, 14,  8,  4],\n",
    "           [15,  6, 15,  8, 10],\n",
    "           [16,  6, 16,  5,  6],\n",
    "           [17,  6, 17,  6,  8],\n",
    "           [18,  6, 18, 10, 11],\n",
    "           [19,  6, 19, 11,  9],\n",
    "           [20,  6, 20,  9,  7]])\n",
    "loads = np.array([\n",
    "           [ 0,  0.0, -2.0],\n",
    "           [ 6,  0.0, -2.0],\n",
    "           [ 7,  0.0, -2.0],\n",
    "           [ 8,  0.0, -2.0],\n",
    "           [ 9,  0.0, -2.0],\n",
    "           [10,  0.0, -2.0],\n",
    "           [11,  0.0, -2.0]])\n",
    "\n",
    "areas = mats[:, 1].copy()"
   ]
  },
  {
   "cell_type": "markdown",
   "metadata": {},
   "source": [
    "### Resultados para el diseño original"
   ]
  },
  {
   "cell_type": "code",
   "execution_count": 4,
   "metadata": {},
   "outputs": [
    {
     "name": "stdout",
     "output_type": "stream",
     "text": [
      "Diseño original: [0.01 0.01 0.01 0.01 0.01 0.01 0.01 0.01 0.01 0.01 0.01 0.01 0.01 0.01\n",
      " 0.01 0.01 0.01 0.01 0.01 0.01 0.01]\n",
      "Peso: 0.445454\n",
      "Esfuerzos: [ 1000.     0. -1118.  1000.  -224.   800.  -283.   100.   800.   100.\n",
      "  -283.   400.  1000.     0.  -224.  -894.  1000. -1118.  -671.  -671.\n",
      "  -894.]\n",
      "Flexibilidad: 0.229365\n"
     ]
    }
   ],
   "source": [
    "disp0 = fem_sol(nodes, eles, mats, loads)\n",
    "weight0 = weight(areas, nodes, eles)\n",
    "stress0 = pos.stress_truss(nodes, eles, mats, disp0)\n",
    "compliance0 = compliance(areas, nodes, eles, loads, mats)\n",
    "print(\"Diseño original: {}\".format(areas))\n",
    "print(\"Peso: {:g}\".format(weight0))\n",
    "print(\"Esfuerzos: {}\".format(np.round(stress0)))\n",
    "print(\"Flexibilidad: {:g}\".format(compliance0))"
   ]
  },
  {
   "cell_type": "markdown",
   "metadata": {},
   "source": [
    "### Optimización"
   ]
  },
  {
   "cell_type": "code",
   "execution_count": 5,
   "metadata": {},
   "outputs": [
    {
     "name": "stdout",
     "output_type": "stream",
     "text": [
      "Optimization terminated successfully.    (Exit mode 0)\n",
      "            Current function value: 0.15076731730307466\n",
      "            Iterations: 23\n",
      "            Function evaluations: 560\n",
      "            Gradient evaluations: 23\n"
     ]
    }
   ],
   "source": [
    "nels = len(areas)\n",
    "\n",
    "# Peso máximo permitido\n",
    "tot_w = 0.5 \n",
    "\n",
    "# Cotas inferior y superior en las áras\n",
    "bnds = [(1e-3, 0.1) for cont in range(nels)]\n",
    "\n",
    "# Restricción de peso\n",
    "weight_fun = lambda areas, nodes, elements, tot_w:\\\n",
    "        tot_w - weight(areas, nodes, elements)\n",
    "weight_cons = [{'type': 'ineq', 'fun': weight_fun,\n",
    "    'args': (nodes, eles, tot_w)}]\n",
    "cons = weight_cons\n",
    "\n",
    "# Minimización\n",
    "res = minimize(compliance, x0=areas, args=(nodes, eles, loads, mats),\n",
    "               bounds=bnds, constraints=cons, method=\"SLSQP\",\n",
    "               tol=1e-6, options={\"maxiter\": 500, \"disp\":True})\n"
   ]
  },
  {
   "cell_type": "markdown",
   "metadata": {},
   "source": [
    "### Diseño optimizado"
   ]
  },
  {
   "cell_type": "code",
   "execution_count": 6,
   "metadata": {},
   "outputs": [
    {
     "name": "stdout",
     "output_type": "stream",
     "text": [
      "Diseño optimizado: [0.0179 0.001  0.0204 0.0179 0.0041 0.0145 0.0051 0.0019 0.0145 0.0018\n",
      " 0.0052 0.0073 0.018  0.001  0.0041 0.0165 0.018  0.0204 0.0123 0.0123\n",
      " 0.0164]\n",
      "Peso: 0.5\n",
      "Esfuerzos: [ 557.    0. -549.  557. -547.  551. -550.  535.  551.  558. -549.  550.\n",
      "  556.    0. -545. -543.  556. -548. -543. -547. -545.]\n",
      "Flexiblidad: 0.150767\n"
     ]
    }
   ],
   "source": [
    "# Optimized design\n",
    "mats1 = mats.copy()\n",
    "mats1[:, 1] = res.x\n",
    "disp1 = fem_sol(nodes, eles, mats1, loads)\n",
    "weight1 = weight(res.x, nodes, eles)\n",
    "stress1 = pos.stress_truss(nodes, eles, mats1, disp1)\n",
    "compliance1 = compliance(res.x, nodes, eles, loads, mats1)\n",
    "print(\"Diseño optimizado: {}\".format(np.round(res.x, 4)))\n",
    "print(\"Peso: {:g}\".format(weight1))\n",
    "print(\"Esfuerzos: {}\".format(np.round(stress1)))\n",
    "print(\"Flexiblidad: {:g}\".format(compliance1))"
   ]
  },
  {
   "cell_type": "markdown",
   "metadata": {},
   "source": [
    "### Visualización"
   ]
  },
  {
   "cell_type": "markdown",
   "metadata": {},
   "source": [
    "La función `plot_truss()` nos permite visualizar la cercha\n",
    "con los esfuerzos que experimenta. El color rojo representa\n",
    "una barra a tracción y el color azul una a compresión. La\n",
    "intensidad del color representa la magnitud del esfuerzo."
   ]
  },
  {
   "cell_type": "code",
   "execution_count": 7,
   "metadata": {},
   "outputs": [
    {
     "data": {
      "application/vnd.jupyter.widget-view+json": {
       "model_id": "a50a4f56044345de9a809a025f28e091",
       "version_major": 2,
       "version_minor": 0
      },
      "text/plain": [
       "Canvas(toolbar=Toolbar(toolitems=[('Home', 'Reset original view', 'home', 'home'), ('Back', 'Back to previous …"
      ]
     },
     "metadata": {},
     "output_type": "display_data"
    }
   ],
   "source": [
    "plt.figure(\"Comparación\", figsize=(8, 2))\n",
    "plt.subplot(121)\n",
    "plot_truss(nodes, eles, mats, loads)\n",
    "plt.subplot(122)\n",
    "plot_truss(nodes, eles, mats1, loads)\n",
    "plt.show()"
   ]
  },
  {
   "cell_type": "code",
   "execution_count": null,
   "metadata": {},
   "outputs": [],
   "source": []
  }
 ],
 "metadata": {
  "kernelspec": {
   "display_name": "Python 3",
   "language": "python",
   "name": "python3"
  },
  "language_info": {
   "codemirror_mode": {
    "name": "ipython",
    "version": 3
   },
   "file_extension": ".py",
   "mimetype": "text/x-python",
   "name": "python",
   "nbconvert_exporter": "python",
   "pygments_lexer": "ipython3",
   "version": "3.6.10"
  },
  "varInspector": {
   "cols": {
    "lenName": 16,
    "lenType": 16,
    "lenVar": 40
   },
   "kernels_config": {
    "python": {
     "delete_cmd_postfix": "",
     "delete_cmd_prefix": "del ",
     "library": "var_list.py",
     "varRefreshCmd": "print(var_dic_list())"
    },
    "r": {
     "delete_cmd_postfix": ") ",
     "delete_cmd_prefix": "rm(",
     "library": "var_list.r",
     "varRefreshCmd": "cat(var_dic_list()) "
    }
   },
   "types_to_exclude": [
    "module",
    "function",
    "builtin_function_or_method",
    "instance",
    "_Feature"
   ],
   "window_display": false
  }
 },
 "nbformat": 4,
 "nbformat_minor": 4
}
